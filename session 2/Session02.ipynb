{
 "cells": [
  {
   "cell_type": "code",
   "execution_count": 1,
   "id": "df622a64-03ea-4467-865f-ecaa22463d3c",
   "metadata": {},
   "outputs": [],
   "source": [
    "name = 'ali'"
   ]
  },
  {
   "cell_type": "code",
   "execution_count": 7,
   "id": "a65320e9-c4a8-4a93-a5c7-2295b19e5baa",
   "metadata": {},
   "outputs": [],
   "source": [
    "# snake_case\n",
    "first_name = 'ali1'"
   ]
  },
  {
   "cell_type": "code",
   "execution_count": 8,
   "id": "7149cbb8-caa0-41af-b611-7d8e562928cb",
   "metadata": {},
   "outputs": [],
   "source": [
    "# camelCase\n",
    "firstName = 'ali2'"
   ]
  },
  {
   "cell_type": "code",
   "execution_count": 9,
   "id": "5f2921c0-86b3-4ce7-9e58-08ab4401b7df",
   "metadata": {},
   "outputs": [],
   "source": [
    "#PascalCase\n",
    "FirstName = 'ali3'"
   ]
  },
  {
   "cell_type": "code",
   "execution_count": 10,
   "id": "ebb12214-b84d-4856-8434-33a4f24435cf",
   "metadata": {},
   "outputs": [
    {
     "data": {
      "text/plain": [
       "'ali1'"
      ]
     },
     "execution_count": 10,
     "metadata": {},
     "output_type": "execute_result"
    }
   ],
   "source": [
    "first_name"
   ]
  },
  {
   "cell_type": "markdown",
   "id": "ef97a379-03a0-408f-ae56-0fd490dcdee4",
   "metadata": {},
   "source": [
    "Numeric Types"
   ]
  },
  {
   "cell_type": "code",
   "execution_count": 11,
   "id": "3d2f48d5-b1af-4426-a409-1f2ce75207be",
   "metadata": {},
   "outputs": [
    {
     "name": "stdout",
     "output_type": "stream",
     "text": [
      "58\n",
      "<class 'int'>\n"
     ]
    }
   ],
   "source": [
    "# int\n",
    "number = -85\n",
    "number = int(58)\n",
    "\n",
    "print(number)\n",
    "print(type(number))"
   ]
  },
  {
   "cell_type": "code",
   "execution_count": 13,
   "id": "da44c256-c49a-4f66-a12c-067538c4bd3f",
   "metadata": {},
   "outputs": [
    {
     "name": "stdout",
     "output_type": "stream",
     "text": [
      "50.0\n",
      "<class 'float'>\n"
     ]
    }
   ],
   "source": [
    "# float\n",
    "float1 = 58.95\n",
    "float2 = float(50)\n",
    "\n",
    "print(float2)\n",
    "print(type(float1))"
   ]
  },
  {
   "cell_type": "code",
   "execution_count": 14,
   "id": "03961623-a9a8-4247-ab2d-9a7d536f8559",
   "metadata": {},
   "outputs": [
    {
     "name": "stdout",
     "output_type": "stream",
     "text": [
      "28j\n",
      "<class 'complex'>\n"
     ]
    }
   ],
   "source": [
    "# Complex\n",
    "\n",
    "complex1 = 25j\n",
    "complex2 = complex(28j)\n",
    "\n",
    "print(complex2)\n",
    "print(type(complex2))"
   ]
  },
  {
   "cell_type": "code",
   "execution_count": 15,
   "id": "3a5ae929-afc4-4b6b-95f7-c948dd1baff8",
   "metadata": {},
   "outputs": [
    {
     "name": "stdout",
     "output_type": "stream",
     "text": [
      "281.65\n"
     ]
    }
   ],
   "source": [
    "# Operator\n",
    "\n",
    "int1 = 256\n",
    "float1 = 25.65\n",
    "int2 = 4\n",
    "\n",
    "# Addition\n",
    "print(int1 + float1) #256 + 25.65"
   ]
  },
  {
   "cell_type": "code",
   "execution_count": 16,
   "id": "5674013c-d3d9-4f7d-9dfa-e3d42aee7943",
   "metadata": {},
   "outputs": [
    {
     "name": "stdout",
     "output_type": "stream",
     "text": [
      "230.35\n"
     ]
    }
   ],
   "source": [
    "# Subtraction\n",
    "print(int1 - float1) #256 - 25.65"
   ]
  },
  {
   "cell_type": "code",
   "execution_count": 17,
   "id": "5ca8de92-b73d-40a0-8cc1-9c53cb501b90",
   "metadata": {},
   "outputs": [
    {
     "name": "stdout",
     "output_type": "stream",
     "text": [
      "6566.4\n"
     ]
    }
   ],
   "source": [
    "# Multiplication\n",
    "print(int1 * float1) #256 * 25.65"
   ]
  },
  {
   "cell_type": "code",
   "execution_count": 20,
   "id": "63db1f70-2336-44a4-95d9-d180c3657b8a",
   "metadata": {},
   "outputs": [
    {
     "name": "stdout",
     "output_type": "stream",
     "text": [
      "2\n",
      "2.5\n",
      "2\n"
     ]
    }
   ],
   "source": [
    "# Division\n",
    "num1 = 10\n",
    "num2 = 4\n",
    "\n",
    "print(10 % 4)\n",
    "print(10 / 4)\n",
    "print(num1 // num2)"
   ]
  },
  {
   "cell_type": "code",
   "execution_count": 26,
   "id": "10bcee53-70a2-42b5-bf4a-e70cf54a1a88",
   "metadata": {},
   "outputs": [
    {
     "name": "stdout",
     "output_type": "stream",
     "text": [
      "15\n"
     ]
    }
   ],
   "source": [
    "# Assignment Operators\n",
    "\n",
    "num1 = 15\n",
    "\n",
    "#num1 = 15 + 15\n",
    "#num1 += 15\n",
    "#num1 *= 10\n",
    "print(num1)"
   ]
  },
  {
   "cell_type": "code",
   "execution_count": 34,
   "id": "6969a55b-3993-44c4-a5fa-f42dc5a63644",
   "metadata": {},
   "outputs": [
    {
     "name": "stdout",
     "output_type": "stream",
     "text": [
      "True\n",
      "False\n",
      "True\n",
      "True\n"
     ]
    }
   ],
   "source": [
    "# Comparison Operators\n",
    "print(15 >= 1)\n",
    "print(15 <= 1)\n",
    "print(10 == 10)\n",
    "print(10 != 1)"
   ]
  },
  {
   "cell_type": "markdown",
   "id": "df0a099a-97b7-40e1-a4a1-0532f05e4808",
   "metadata": {},
   "source": [
    "String"
   ]
  },
  {
   "cell_type": "code",
   "execution_count": 35,
   "id": "b40b5a64-6e13-42f5-acb5-3ff49c8d3e24",
   "metadata": {},
   "outputs": [
    {
     "name": "stdout",
     "output_type": "stream",
     "text": [
      "3\n",
      "<class 'str'>\n"
     ]
    }
   ],
   "source": [
    "string = 'Hello World'\n",
    "string2 = \"Hello World\"\n",
    "string3 = str(3)\n",
    "\n",
    "print(string3)\n",
    "print(type(string3))"
   ]
  },
  {
   "cell_type": "code",
   "execution_count": 36,
   "id": "55284bea-7fce-45bc-89ed-aadd85d6e83c",
   "metadata": {},
   "outputs": [],
   "source": [
    "string = \"I love AI and Data Science\""
   ]
  },
  {
   "cell_type": "code",
   "execution_count": 41,
   "id": "bdd230ac-3527-4cd6-9f0f-cd2424c0cfa4",
   "metadata": {},
   "outputs": [
    {
     "name": "stdout",
     "output_type": "stream",
     "text": [
      "I\n"
     ]
    }
   ],
   "source": [
    "print(string[8])"
   ]
  },
  {
   "cell_type": "code",
   "execution_count": 42,
   "id": "3d243605-d896-4f83-8947-18968e8b7e06",
   "metadata": {},
   "outputs": [
    {
     "name": "stdout",
     "output_type": "stream",
     "text": [
      "love AI \n"
     ]
    }
   ],
   "source": [
    "print(string[2:10])"
   ]
  },
  {
   "cell_type": "code",
   "execution_count": 43,
   "id": "153fb22d-f2a3-4bc0-ab63-5927a0957701",
   "metadata": {},
   "outputs": [
    {
     "name": "stdout",
     "output_type": "stream",
     "text": [
      "e AI and Data Science\n",
      "I lov\n"
     ]
    }
   ],
   "source": [
    "print(string[5:])\n",
    "print(string[:5])"
   ]
  },
  {
   "cell_type": "code",
   "execution_count": 47,
   "id": "cf2887d7-7048-4811-87a0-04d77f74e2bf",
   "metadata": {},
   "outputs": [
    {
     "name": "stdout",
     "output_type": "stream",
     "text": [
      "26\n"
     ]
    }
   ],
   "source": [
    "print(len(string)) #Length"
   ]
  },
  {
   "cell_type": "code",
   "execution_count": 48,
   "id": "1e34d313-864a-4e9a-bc10-29b5710b37dd",
   "metadata": {},
   "outputs": [
    {
     "name": "stdout",
     "output_type": "stream",
     "text": [
      "I LOVE AI AND DATA SCIENCE\n"
     ]
    }
   ],
   "source": [
    "print(string.upper())"
   ]
  },
  {
   "cell_type": "code",
   "execution_count": 49,
   "id": "cd7c8637-c97e-443b-a106-2752d3f1fb9a",
   "metadata": {},
   "outputs": [
    {
     "name": "stdout",
     "output_type": "stream",
     "text": [
      "i love ai and data science\n"
     ]
    }
   ],
   "source": [
    "print(string.lower())"
   ]
  },
  {
   "cell_type": "code",
   "execution_count": 52,
   "id": "5fc04d3f-6972-4ea2-bab3-4ff240f5178a",
   "metadata": {},
   "outputs": [
    {
     "name": "stdout",
     "output_type": "stream",
     "text": [
      "i love ai and data science\n"
     ]
    }
   ],
   "source": [
    "string = string.lower()\n",
    "print(string)"
   ]
  },
  {
   "cell_type": "code",
   "execution_count": 55,
   "id": "2910304e-f480-4a06-a935-ff9d1d0b48d7",
   "metadata": {},
   "outputs": [],
   "source": [
    "string = string.replace('ai', 'AI')"
   ]
  },
  {
   "cell_type": "code",
   "execution_count": 57,
   "id": "69181f2b-984d-4a46-8361-b35b63036404",
   "metadata": {},
   "outputs": [
    {
     "data": {
      "text/plain": [
       "['i', 'love', 'AI', 'and', 'data', 'science']"
      ]
     },
     "execution_count": 57,
     "metadata": {},
     "output_type": "execute_result"
    }
   ],
   "source": [
    "string = string.split()"
   ]
  },
  {
   "cell_type": "code",
   "execution_count": 64,
   "id": "659f20fd-1e11-4e67-b669-519530bf1b03",
   "metadata": {},
   "outputs": [],
   "source": [
    "string = \"\".join(string)"
   ]
  },
  {
   "cell_type": "code",
   "execution_count": 65,
   "id": "24720550-918d-4227-b6f8-6ffa2392ba4f",
   "metadata": {},
   "outputs": [],
   "source": [
    "fname = 'ALI'\n",
    "lname = 'Gharib Pour'"
   ]
  },
  {
   "cell_type": "code",
   "execution_count": 68,
   "id": "604ec019-8d72-4b17-88b8-b8232f126981",
   "metadata": {},
   "outputs": [
    {
     "name": "stdout",
     "output_type": "stream",
     "text": [
      "ALI Gharib Pour\n"
     ]
    }
   ],
   "source": [
    "print(fname + \" \" + lname)"
   ]
  },
  {
   "cell_type": "code",
   "execution_count": 67,
   "id": "e5f53b65-b8a5-4f64-9d79-0de23e79a933",
   "metadata": {},
   "outputs": [
    {
     "name": "stdout",
     "output_type": "stream",
     "text": [
      "ALI Gharib Pour\n"
     ]
    }
   ],
   "source": [
    "print(fname , lname)"
   ]
  },
  {
   "cell_type": "code",
   "execution_count": 70,
   "id": "cd09f3b0-13d4-4d63-85e1-6a624f0e895e",
   "metadata": {},
   "outputs": [
    {
     "name": "stdout",
     "output_type": "stream",
     "text": [
      "I am ALI Gharib Pour\n"
     ]
    }
   ],
   "source": [
    "print(\"I am\", fname , lname)"
   ]
  },
  {
   "cell_type": "code",
   "execution_count": 73,
   "id": "7afad8a4-2d58-489d-bd49-15e167d12414",
   "metadata": {},
   "outputs": [
    {
     "name": "stdout",
     "output_type": "stream",
     "text": [
      "I am ALI my last name is Gharib Pour \n",
      " i am 23\t years old\n"
     ]
    }
   ],
   "source": [
    "# Fstring\n",
    "\n",
    "age = 23\n",
    "print(f\"I am {fname} my last name is {lname} \\n i am {age}\\t years old\")"
   ]
  },
  {
   "cell_type": "markdown",
   "id": "d181c642-33de-41ae-a5b3-d6956dc99e51",
   "metadata": {},
   "source": [
    "Boolean"
   ]
  },
  {
   "cell_type": "code",
   "execution_count": 75,
   "id": "1d87969a-4f46-49fe-894b-324803977104",
   "metadata": {},
   "outputs": [
    {
     "name": "stdout",
     "output_type": "stream",
     "text": [
      "False\n",
      "<class 'bool'>\n"
     ]
    }
   ],
   "source": [
    "bool1 = True\n",
    "bool2 = bool(0)\n",
    "\n",
    "print(bool2)\n",
    "print(type(bool1))"
   ]
  },
  {
   "cell_type": "code",
   "execution_count": null,
   "id": "29176761-c971-42c1-95f5-4e028476ad1e",
   "metadata": {},
   "outputs": [],
   "source": []
  }
 ],
 "metadata": {
  "kernelspec": {
   "display_name": "Python 3 (ipykernel)",
   "language": "python",
   "name": "python3"
  },
  "language_info": {
   "codemirror_mode": {
    "name": "ipython",
    "version": 3
   },
   "file_extension": ".py",
   "mimetype": "text/x-python",
   "name": "python",
   "nbconvert_exporter": "python",
   "pygments_lexer": "ipython3",
   "version": "3.8.20"
  }
 },
 "nbformat": 4,
 "nbformat_minor": 5
}
